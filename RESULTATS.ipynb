{
 "cells": [
  {
   "cell_type": "markdown",
   "metadata": {},
   "source": [
    "## get data"
   ]
  },
  {
   "cell_type": "code",
   "execution_count": 9,
   "metadata": {},
   "outputs": [],
   "source": [
    "\n",
    "from GOLDS import cleaning_data, Save_data_gold_transform\n",
    "from BRONZE import savedataraw\n",
    "from SILVER import Save_data_transform\n",
    "from FlightRadar24 import FlightRadar24API\n",
    "fr_api = FlightRadar24API()\n",
    "clean = cleaning_data()\n",
    "data_raw = savedataraw()\n",
    "data_silver= Save_data_transform()\n",
    "data_gold =Save_data_gold_transform()"
   ]
  },
  {
   "cell_type": "code",
   "execution_count": 10,
   "metadata": {},
   "outputs": [
    {
     "name": "stderr",
     "output_type": "stream",
     "text": [
      "c:\\Users\\mdori\\OneDrive\\Documents\\Flight_radar\\BRflight_radar\\GOLDS.py:19: FutureWarning: DataFrame.applymap has been deprecated. Use DataFrame.map instead.\n",
      "  df_clean= df_flights.applymap(lambda x: None if x == \"N/A\" else x)\n"
     ]
    }
   ],
   "source": [
    "list =[\"flights\", \"airports\", \"airlines\",\"zones\"]\n",
    "for data_type in list :\n",
    "    data_raw.save_raw(data_type)\n",
    "    data_silver.save_to_parquet(data_type)\n",
    "    data_gold.save_data_to_parquet(data_type)"
   ]
  },
  {
   "cell_type": "code",
   "execution_count": 11,
   "metadata": {},
   "outputs": [],
   "source": [
    "\n",
    "if data_type== \"flights\" :\n",
    "    flights= clean.clean_data(data_type)\n",
    "elif data_type==\"airports\":\n",
    "    airports=clean.clean_data(data_type)\n",
    "elif data_type==\"airlines\":\n",
    "    airlines=clean.clean_data(data_type)\n",
    "elif data_type==\"zones\":\n",
    "    zones=clean.clean_data(data_type)"
   ]
  },
  {
   "cell_type": "code",
   "execution_count": 12,
   "metadata": {},
   "outputs": [],
   "source": [
    "data1 = \"flights\"\n",
    "data2 = \"airports\"\n",
    "distance= clean.clean_distance(data1 ,data2)\n",
    "data_raw.save_distance (data1, data2) \n",
    "data_gold.save_distance_to_parquet(data1, data2)\n"
   ]
  },
  {
   "cell_type": "code",
   "execution_count": 15,
   "metadata": {},
   "outputs": [],
   "source": [
    "from pyspark.sql import SparkSession\n",
    "import pandas as pd\n",
    "# Create a SparkSession\n",
    "spark = SparkSession.builder.appName(\"Projet\").getOrCreate()\n"
   ]
  },
  {
   "cell_type": "code",
   "execution_count": 16,
   "metadata": {},
   "outputs": [],
   "source": [
    "from pyspark.sql import functions as F\n",
    "from pyspark.sql.functions import max\n",
    "from pyspark.sql.functions import*"
   ]
  },
  {
   "cell_type": "markdown",
   "metadata": {},
   "source": [
    "## Read all data in spark"
   ]
  },
  {
   "cell_type": "code",
   "execution_count": null,
   "metadata": {},
   "outputs": [],
   "source": [
    "#read flights\n",
    "df_flights=spark.createDataFrame(clean.clean_data(\"flights\"))\n",
    "df_flights.show()"
   ]
  },
  {
   "cell_type": "code",
   "execution_count": null,
   "metadata": {},
   "outputs": [],
   "source": [
    " #read flights\n",
    "df_flights =spark.createDataFrame(clean.clean_data(\"flights\"))\n",
    "# read airlines\n",
    "df_airlines = spark.createDataFrame(clean.clean_data(\"airlines\"))\n",
    "# read airports   \n",
    "df_airports = spark.createDataFrame(clean.clean_data(\"airports\"))\n",
    "# read Zones \n",
    "df_zones= spark.createDataFrame(clean.clean_data(\"zones\"))\n",
    "              \n",
    "# read distances flight\n",
    "df_distance=spark.createDataFrame(clean.clean_distance(data1 ,data2))  "
   ]
  },
  {
   "cell_type": "markdown",
   "metadata": {},
   "source": [
    "## La compagnie avec le + de vols en cours"
   ]
  },
  {
   "cell_type": "code",
   "execution_count": 19,
   "metadata": {},
   "outputs": [
    {
     "name": "stdout",
     "output_type": "stream",
     "text": [
      "+-------------+------------+------------+------------------------+-----------+---------+-------------+---------+-------------------+----------------------------+\n",
      "|aircraft_code|airline_iata|airline_icao|destination_airport_iata|ID_aircraft|flight_ID|flight_number|on_ground|origin_airport_iata|number_registration_aircraft|\n",
      "+-------------+------------+------------+------------------------+-----------+---------+-------------+---------+-------------------+----------------------------+\n",
      "|         B752|          FX|         FDX|                     OAK|     ACDC63| 329cd5a3|       FX1802|        1|                RNO|                      N928FD|\n",
      "|         B77L|          FX|         FDX|                     ANC|     ABC591| 329f5eb9|       FX5236|        1|                IND|                      N858FD|\n",
      "|         A359|          DL|         DAL|                     ATL|     A67F8A| 32a11a70|        DL201|        0|                JNB|                      N518DZ|\n",
      "|         A359|          DL|         DAL|                     ATL|     A68336| 32a1cbac|        DL211|        1|                CPT|                      N519DN|\n",
      "|         B789|          UA|         UAL|                     SIN|     A31A76| 32a1db56|         UA29|        0|                SFO|                      N29984|\n",
      "|         B77L|          FX|         FDX|                     CDG|     AC01FC| 32a1e7fa|       FX6083|        0|                CAN|                      N873FD|\n",
      "|         B77L|          BR|         EVA|                     TPE|     899123| 32a1ed75|        BR633|        1|                ORD|                     B-16782|\n",
      "|         B789|          UA|         UAL|                     EWR|     A254DA| 32a1f1d9|        UA187|        0|                JNB|                      N24976|\n",
      "|         B77L|          FX|         FDX|                     CDG|     ABE959| 32a1f270|       FX9883|        0|                CAN|                      N867FD|\n",
      "|         B77W|          BA|         BAW|                     SIN|     407994| 32a1f55f|         BA15|        1|                LHR|                      G-STBO|\n",
      "|         B77L|          AI|         AIC|                     JFK|     80153F| 32a20ad0|        AI119|        0|                BOM|                      VT-AEG|\n",
      "|         A359|          DL|         DAL|                     LAX|     A66CF7| 32a20f29|         DL40|        0|                SYD|                      N513DZ|\n",
      "|         B77W|          AI|         AIC|                     JFK|     8003E3| 32a21272|        AI101|        1|                DEL|                      VT-ALK|\n",
      "|         B788|          KQ|         KQA|                     JFK|     04C117| 32a216b9|          KQ2|        0|                NBO|                      5Y-KZA|\n",
      "|         A320|          G4|         AAY|                     PIT|     A24789| 32a21848|       G42738|        1|                SRQ|                      N246NV|\n",
      "|         B77W|          NH|         ANA|                     HND|     8694D8| 32a218f5|        NH111|        0|                ORD|                      JA791A|\n",
      "|         B77W|          AI|         AIC|                     ORD|     8004E0| 32a22299|        AI127|        0|                DEL|                      VT-ALR|\n",
      "|         BCS3|          LX|         SWR|                     RAK|     4B1807| 32a22437|       LX2200|        0|                GVA|                      HB-JCP|\n",
      "|         B748|          LH|         DLH|                     EZE|     3C4B34| 32a225b6|        LH510|        0|                FRA|                      D-ABYT|\n",
      "|         A35K|          QR|         QTR|                     DOH|     06A126| 32a22b5b|        QR742|        0|                LAX|                      A7-ANJ|\n",
      "+-------------+------------+------------+------------------------+-----------+---------+-------------+---------+-------------------+----------------------------+\n",
      "only showing top 20 rows\n",
      "\n"
     ]
    }
   ],
   "source": [
    "#read df_flights\n",
    "df_flights.show()"
   ]
  },
  {
   "cell_type": "code",
   "execution_count": 20,
   "metadata": {},
   "outputs": [
    {
     "data": {
      "text/plain": [
       "DataFrame[country: string, airport_iata: string, airport_icao: string, airport_name: string]"
      ]
     },
     "metadata": {},
     "output_type": "display_data"
    }
   ],
   "source": [
    "#read df_airlines\n",
    "display(df_airports)"
   ]
  },
  {
   "cell_type": "code",
   "execution_count": 21,
   "metadata": {},
   "outputs": [
    {
     "data": {
      "text/plain": [
       "DataFrame[Continent: string, Country: string]"
      ]
     },
     "metadata": {},
     "output_type": "display_data"
    }
   ],
   "source": [
    "display(df_zones)"
   ]
  },
  {
   "cell_type": "code",
   "execution_count": 22,
   "metadata": {},
   "outputs": [
    {
     "name": "stdout",
     "output_type": "stream",
     "text": [
      "+-------------+-----------+\n",
      "| airline_name|num_flights|\n",
      "+-------------+-----------+\n",
      "|Qatar Airways|         85|\n",
      "+-------------+-----------+\n",
      "\n"
     ]
    }
   ],
   "source": [
    "# Filter flights in progress (on_ground is 0)\n",
    "df_flights_in_progress = df_flights.filter(df_flights[\"on_ground\"] == 0)\n",
    "# join df_flights and df_airlins\n",
    "df_join = df_flights_in_progress.join(df_airlines, on=[df_flights_in_progress.airline_icao ==df_airlines.airline_icao], how='left')\n",
    "# Group by airline_iata and count, then order by count descending\n",
    "df_most_flights_airline = (\n",
    "    df_join.groupBy(\"airline_name\")\n",
    "    .agg(F.count(\"flight_ID\").alias(\"num_flights\"))\n",
    "    .orderBy(F.desc(\"num_flights\"))\n",
    ").limit(1)\n",
    "\n",
    "df_most_flights_airline.show()"
   ]
  },
  {
   "cell_type": "code",
   "execution_count": 23,
   "metadata": {},
   "outputs": [
    {
     "data": {
      "text/plain": [
       "DataFrame[Flightnumber: string, Airport_icao: string, Distance: double]"
      ]
     },
     "metadata": {},
     "output_type": "display_data"
    }
   ],
   "source": [
    "display(df_distance)"
   ]
  },
  {
   "cell_type": "markdown",
   "metadata": {},
   "source": [
    "## Pour chaque continent, la compagnie avec le + de vols régionaux actifs (continent d'origine == continent de destination)"
   ]
  },
  {
   "cell_type": "code",
   "execution_count": 24,
   "metadata": {},
   "outputs": [],
   "source": [
    "#Convert the country columns in both dataframes to lowercase\n",
    "from pyspark.sql.functions import lower\n",
    "\n",
    "df_airports = df_airports.withColumn(\"Country\", lower(df_airports[\"Country\"]))\n",
    "df_zones = df_zones.withColumn(\"Country\", lower(df_zones[\"Country\"]))\n",
    "\n",
    "df1=df_airports\\\n",
    "    .join(df_zones, on=[df_airports.Country == df_zones.Country], how='left') \\\n",
    "    .join (df_distance, on=[df_distance.Airport_icao == df_airports.airport_icao], how='left')\\\n",
    "    .join (df_flights_in_progress,  on=[df_flights_in_progress.flight_number == df_distance.Flightnumber], how='right')\n",
    "\n",
    "\n",
    "#drop columns duplicates\n",
    "df_final= df1.drop(df_zones.Country, df_airports.airport_icao, df_distance.Flightnumber, )\n"
   ]
  },
  {
   "cell_type": "code",
   "execution_count": 25,
   "metadata": {},
   "outputs": [
    {
     "name": "stdout",
     "output_type": "stream",
     "text": [
      "+---------+------------+------------+\n",
      "|Continent|airline_icao|flight_count|\n",
      "+---------+------------+------------+\n",
      "|     asia|         QTR|        7140|\n",
      "|   europe|         QTR|       34425|\n",
      "+---------+------------+------------+\n",
      "\n"
     ]
    }
   ],
   "source": [
    "from pyspark.sql import functions as F\n",
    "from pyspark.sql.window import Window\n",
    "\n",
    "# Filter out rows where continent is null\n",
    "filtered_df = df_final.filter(df_final.Continent.isNotNull())\n",
    "\n",
    "# Group by continent and airline_icao, and count the flights\n",
    "grouped_df = (filtered_df.groupBy(\"Continent\", \"airline_icao\")\n",
    "             .agg(F.count(\"flight_number\").alias(\"flight_count\")))\n",
    "\n",
    "# For each continent, order the airlines by their flight count in descending order\n",
    "# and get the top airline\n",
    "window_spec = (Window.partitionBy(\"Continent\")\n",
    "               .orderBy(F.desc(\"flight_count\"), \"airline_icao\"))\n",
    "\n",
    "top_airlines = (grouped_df.withColumn(\"rank\", F.row_number().over(window_spec))\n",
    "                .filter(F.col(\"rank\") == 1)\n",
    "                .drop(\"rank\"))\n",
    "\n",
    "top_airlines.show()"
   ]
  },
  {
   "cell_type": "markdown",
   "metadata": {},
   "source": [
    "## Le vol en cours avec le trajet le plus long"
   ]
  },
  {
   "cell_type": "code",
   "execution_count": 26,
   "metadata": {},
   "outputs": [
    {
     "data": {
      "text/plain": [
       "DataFrame[flight_number: string, Distance: double]"
      ]
     },
     "metadata": {},
     "output_type": "display_data"
    }
   ],
   "source": [
    "#Join flight_progress with flight_airport_distance\n",
    "\n",
    "df_flights_join = df_flights_in_progress.join(df_distance, on=[df_flights_in_progress.flight_number == df_distance.Flightnumber ], how='left')\n",
    "df_flight_distance=df_flights_join.select(\"flight_number\", \"Distance\").orderBy(F.desc(\"Distance\")).limit(1)\n",
    "\n",
    "display(df_flight_distance)"
   ]
  },
  {
   "cell_type": "markdown",
   "metadata": {},
   "source": [
    "## Pour chaque continent, la longueur de vol moyenne"
   ]
  },
  {
   "cell_type": "code",
   "execution_count": 27,
   "metadata": {},
   "outputs": [
    {
     "name": "stdout",
     "output_type": "stream",
     "text": [
      "+---------+------------------+\n",
      "|continent|  average_distance|\n",
      "+---------+------------------+\n",
      "|   europe|5922.6780874515825|\n",
      "|     asia| 8168.011560421713|\n",
      "+---------+------------------+\n",
      "\n"
     ]
    }
   ],
   "source": [
    "df_avg= df_final.select(\"continent\", \"flight_number\",\"Distance\")\n",
    "\n",
    "from pyspark.sql import functions as F\n",
    "\n",
    "# Filter out rows where continent is null\n",
    "filtered_df = df_avg.filter(df_avg.continent.isNotNull())\n",
    "\n",
    "# Group by continent and compute the average distance\n",
    "avg_distance_df = (filtered_df.groupBy(\"continent\")\n",
    "                   .agg(F.avg(\"Distance\").alias(\"average_distance\")))\n",
    "\n",
    "avg_distance_df.show()"
   ]
  },
  {
   "cell_type": "markdown",
   "metadata": {},
   "source": [
    "##  Pour chaque pays de compagnie aérienne, le top 3 des modèles d'avion en usage"
   ]
  },
  {
   "cell_type": "code",
   "execution_count": 28,
   "metadata": {},
   "outputs": [
    {
     "data": {
      "text/plain": [
       "DataFrame[aircraft_code: string, flight_number: string, Country: string, airline_icao: string]"
      ]
     },
     "metadata": {},
     "output_type": "display_data"
    },
    {
     "name": "stdout",
     "output_type": "stream",
     "text": [
      "+------------+-------------+-------------------+\n",
      "|airline_name|aircraft_code|            country|\n",
      "+------------+-------------+-------------------+\n",
      "|AMC Airlines|         B738|        afghanistan|\n",
      "|AMC Airlines|         B738|            albania|\n",
      "|AMC Airlines|         B738|           anguilla|\n",
      "|AMC Airlines|         B738|         antarctica|\n",
      "|AMC Airlines|         B738|antigua and barbuda|\n",
      "|AMC Airlines|         B738|          argentina|\n",
      "|AMC Airlines|         B738|            armenia|\n",
      "|AMC Airlines|         B738|              aruba|\n",
      "|AMC Airlines|         B738|          australia|\n",
      "|AMC Airlines|         B738|             bhutan|\n",
      "|AMC Airlines|         B738|            burundi|\n",
      "|AMC Airlines|         B738|             canada|\n",
      "|AMC Airlines|         B738|         cape verde|\n",
      "|AMC Airlines|         B738|           colombia|\n",
      "|AMC Airlines|         B738|            croatia|\n",
      "|AMC Airlines|         B738|               cuba|\n",
      "|AMC Airlines|         B738|             cyprus|\n",
      "|AMC Airlines|         B738|            czechia|\n",
      "|AMC Airlines|         B738|            denmark|\n",
      "|AMC Airlines|         B738|           dominica|\n",
      "+------------+-------------+-------------------+\n",
      "only showing top 20 rows\n",
      "\n"
     ]
    }
   ],
   "source": [
    "df_airlines_air= df_final.select(\"aircraft_code\", \"flight_number\",\"Country\",\"airline_icao\")\n",
    "display(df_airlines_air)\n",
    "\n",
    "df_airlines_aircraft= df_airlines_air.join(df_airlines, \"airline_icao\", how='left')\n",
    "\n",
    "from pyspark.sql import functions as F\n",
    "from pyspark.sql.window import Window\n",
    "\n",
    "# Group by airline_name, country and aircraft_code and count\n",
    "df_grouped = df_airlines_aircraft.groupBy(\"airline_name\", \"aircraft_code\", \"country\").agg(F.count(\"flight_number\").alias(\"count\"))\n",
    "\n",
    "# Define a window specification to partition by both airline_name and country\n",
    "window_spec = Window.partitionBy(\"airline_name\", \"country\").orderBy(F.desc(\"count\"))\n",
    "\n",
    "# Use the rank function over the window specification\n",
    "df_grouped = df_grouped.withColumn(\"rank\", F.rank().over(window_spec))\n",
    "\n",
    "# Filter for top 3 models for each airline within each country\n",
    "df_top3 = df_grouped.filter(F.col(\"rank\") <= 3).drop(\"rank\", \"count\")\n",
    "\n",
    "\n",
    "\n",
    "df_filter = df_top3.filter(df_top3.airline_name.isNotNull())\n",
    "df_filter.show()"
   ]
  },
  {
   "cell_type": "markdown",
   "metadata": {},
   "source": [
    "## L'entreprise constructeur d'avions avec le plus de vols actifs"
   ]
  },
  {
   "cell_type": "code",
   "execution_count": 29,
   "metadata": {},
   "outputs": [
    {
     "data": {
      "text/plain": [
       "DataFrame[aircraft_code: string, flight_number: string, Country: string, airline_icao: string]"
      ]
     },
     "metadata": {},
     "output_type": "display_data"
    }
   ],
   "source": [
    "df_airlines_air= df_final.select(\"aircraft_code\", \"flight_number\",\"Country\",\"airline_icao\")\n",
    "display(df_airlines_air)\n",
    "\n",
    "df_airlines_aircraft= df_airlines_air.join(df_airlines, \"airline_icao\", how='left')"
   ]
  },
  {
   "cell_type": "code",
   "execution_count": 30,
   "metadata": {},
   "outputs": [
    {
     "name": "stdout",
     "output_type": "stream",
     "text": [
      "+------------+-------+\n",
      "|manufacturer|  count|\n",
      "+------------+-------+\n",
      "|      Boeing|4253915|\n",
      "+------------+-------+\n",
      "only showing top 1 row\n",
      "\n"
     ]
    }
   ],
   "source": [
    "from itertools import chain\n",
    "\n",
    "\n",
    "    # Dictionnaire des modèles d'avions et leurs fabricants respectifs\n",
    "manufacturers = {\n",
    "        \"CL35\": \"Bombardier\",\n",
    "        \"A21N\": \"Airbus\",\n",
    "        \"B742\": \"Boeing\",\n",
    "        \"A332\": \"Airbus\",\n",
    "        \"B772\": \"Boeing\",\n",
    "        \"GLF6\": \"Gulfstream\",\n",
    "        \"E295\": \"Embraer\",\n",
    "        \"B78X\": \"Boeing\",\n",
    "        \"A319\": \"Airbus\",\n",
    "        \"A343\": \"Airbus\",\n",
    "        \"A320\": \"Airbus\",\n",
    "        \"C750\": \"Cessna\",\n",
    "        \"C68A\": \"Cessna\",\n",
    "        \"A388\": \"Airbus\",\n",
    "        \"B744\": \"Boeing\",\n",
    "        \"A321\": \"Airbus\",\n",
    "        \"GLEX\": \"Bombardier\",\n",
    "        \"B789\": \"Boeing\",\n",
    "        \"B748\": \"Boeing\",\n",
    "        \"BCS3\": \"Airbus\",\n",
    "        \"A333\": \"Airbus\",\n",
    "        \"B738\": \"Boeing\",\n",
    "        \"B763\": \"Boeing\",\n",
    "        \"T204\": \"Tupolev\",\n",
    "        \"GL7T\": \"Gulfstream\",\n",
    "        \"B788\": \"Boeing\",\n",
    "        \"MD11\": \"McDonnell Douglas\",\n",
    "        \"0000\": \"Unknown\", # Ce code semble être une valeur inconnue ou un espace réservé\n",
    "        \"B737\": \"Boeing\",\n",
    "        \"A310\": \"Airbus\",\n",
    "        \"A339\": \"Airbus\",\n",
    "        \"C680\": \"Cessna\",\n",
    "        \"B752\": \"Boeing\",\n",
    "        \"A35K\": \"Airbus\",\n",
    "        \"A346\": \"Airbus\",\n",
    "        \"B77W\": \"Boeing\",\n",
    "        \"SU95\": \"Sukhoi\",\n",
    "        \"C56X\": \"Cessna\",\n",
    "        \"A359\": \"Airbus\",\n",
    "        \"H25B\": \"Hawker Beechcraft\",\n",
    "        \"A20N\": \"Airbus\",\n",
    "        \"B77L\": \"Boeing\",\n",
    "        \"B38M\": \"Boeing\",\n",
    "        \"B739\": \"Boeing\",\n",
    "        \"B39M\": \"Boeing\"\n",
    "    }\n",
    "    \n",
    "# Convertir le dictionnaire Python en un dictionnaire Spark\n",
    "mapping_expr = create_map([lit(x) for x in chain(*manufacturers.items())])\n",
    "\n",
    "# Add column  'manufacturer'\n",
    "df = df_airlines_aircraft.withColumn(\"manufacturer\", mapping_expr[df_airlines_aircraft[\"aircraft_code\"]])\n",
    "\n",
    "# Grouper par fabricant et compter\n",
    "df_manufacturer_counts = df.groupBy(\"manufacturer\").count().orderBy(\"count\", ascending=False)\n",
    "\n",
    "# Afficher le fabricant avec le plus de vols\n",
    "df_manufacturer_counts.show(1)\n"
   ]
  },
  {
   "cell_type": "code",
   "execution_count": null,
   "metadata": {},
   "outputs": [],
   "source": []
  }
 ],
 "metadata": {
  "kernelspec": {
   "display_name": "env",
   "language": "python",
   "name": "python3"
  },
  "language_info": {
   "codemirror_mode": {
    "name": "ipython",
    "version": 3
   },
   "file_extension": ".py",
   "mimetype": "text/x-python",
   "name": "python",
   "nbconvert_exporter": "python",
   "pygments_lexer": "ipython3",
   "version": "3.10.11"
  }
 },
 "nbformat": 4,
 "nbformat_minor": 2
}
